{
 "cells": [
  {
   "attachments": {},
   "cell_type": "markdown",
   "metadata": {},
   "source": [
    "## ZODYNAI"
   ]
  },
  {
   "cell_type": "code",
   "execution_count": 14,
   "metadata": {},
   "outputs": [
    {
     "name": "stdout",
     "output_type": "stream",
     "text": [
      "{'good': 'geras', 'fun': 'juokingas', 'big': 'didelis'}\n"
     ]
    }
   ],
   "source": [
    "zodynas = {\n",
    "    'good': 'geras',\n",
    "    'fun': 'juokingas',\n",
    "    'big': 'didelis',\n",
    "}\n",
    "print(zodynas)"
   ]
  },
  {
   "cell_type": "code",
   "execution_count": 15,
   "metadata": {},
   "outputs": [
    {
     "name": "stdout",
     "output_type": "stream",
     "text": [
      "{'petras': [5, 3, 2, 1], 'monika': [7, 11, 3, 0]}\n"
     ]
    }
   ],
   "source": [
    "zmones = {\n",
    "    'petras': [5, 3, 2, 1],\n",
    "    'monika': [7, 11, 3, 0],\n",
    "}\n",
    "print(zmones)"
   ]
  },
  {
   "cell_type": "code",
   "execution_count": 16,
   "metadata": {},
   "outputs": [
    {
     "name": "stdout",
     "output_type": "stream",
     "text": [
      "geras\n"
     ]
    }
   ],
   "source": [
    "print(zodynas['good'])"
   ]
  },
  {
   "cell_type": "code",
   "execution_count": 17,
   "metadata": {},
   "outputs": [
    {
     "name": "stdout",
     "output_type": "stream",
     "text": [
      "{'good': 'geras', 'fun': 'juokingas', 'big': 'didelis', 'evil': 'blogis'}\n"
     ]
    }
   ],
   "source": [
    "zodynas['evil'] = 'blogis'\n",
    "print(zodynas)"
   ]
  },
  {
   "cell_type": "code",
   "execution_count": 18,
   "metadata": {},
   "outputs": [
    {
     "name": "stdout",
     "output_type": "stream",
     "text": [
      "{'good': 'geras', 'fun': 'juokingas', 'big': 'didelis', 'evil': 'blogis', 'goodness': 'geris'}\n"
     ]
    }
   ],
   "source": [
    "zodynas['goodness'] = 'geris'\n",
    "print(zodynas)"
   ]
  },
  {
   "cell_type": "code",
   "execution_count": 19,
   "metadata": {},
   "outputs": [
    {
     "ename": "SyntaxError",
     "evalue": "cannot delete literal (4213056002.py, line 1)",
     "output_type": "error",
     "traceback": [
      "\u001b[1;36m  Cell \u001b[1;32mIn[19], line 1\u001b[1;36m\u001b[0m\n\u001b[1;33m    del ('goodnes')\u001b[0m\n\u001b[1;37m         ^\u001b[0m\n\u001b[1;31mSyntaxError\u001b[0m\u001b[1;31m:\u001b[0m cannot delete literal\n"
     ]
    }
   ],
   "source": [
    "del ('goodnes')\n",
    "print(zodynas)"
   ]
  },
  {
   "cell_type": "code",
   "execution_count": 20,
   "metadata": {},
   "outputs": [
    {
     "name": "stdout",
     "output_type": "stream",
     "text": [
      "dict_keys(['good', 'fun', 'big', 'evil', 'goodness'])\n"
     ]
    }
   ],
   "source": [
    "print(zodynas.keys())"
   ]
  },
  {
   "cell_type": "code",
   "execution_count": 21,
   "metadata": {},
   "outputs": [
    {
     "name": "stdout",
     "output_type": "stream",
     "text": [
      "big\n"
     ]
    }
   ],
   "source": [
    "print(list(zodynas.keys())[2])"
   ]
  },
  {
   "cell_type": "code",
   "execution_count": 22,
   "metadata": {},
   "outputs": [
    {
     "name": "stdout",
     "output_type": "stream",
     "text": [
      "dict_values(['geras', 'juokingas', 'didelis', 'blogis', 'geris'])\n"
     ]
    }
   ],
   "source": [
    "print(zodynas.values())"
   ]
  },
  {
   "cell_type": "code",
   "execution_count": 23,
   "metadata": {},
   "outputs": [
    {
     "name": "stdout",
     "output_type": "stream",
     "text": [
      "dict_items([('good', 'geras'), ('fun', 'juokingas'), ('big', 'didelis'), ('evil', 'blogis'), ('goodness', 'geris')])\n"
     ]
    }
   ],
   "source": [
    "print(zodynas.items())"
   ]
  },
  {
   "cell_type": "code",
   "execution_count": 25,
   "metadata": {},
   "outputs": [
    {
     "name": "stdout",
     "output_type": "stream",
     "text": [
      "didelis\n"
     ]
    }
   ],
   "source": [
    "print(zodynas['big'])"
   ]
  },
  {
   "cell_type": "code",
   "execution_count": 32,
   "metadata": {},
   "outputs": [
    {
     "name": "stdout",
     "output_type": "stream",
     "text": [
      "None\n",
      "{'good': 'geras', 'fun': 'juokingas', 'big': 'didelis', 'goodness': 'geris'}\n"
     ]
    }
   ],
   "source": [
    "print(zodynas.get('funny'))\n",
    "print(zodynas)"
   ]
  },
  {
   "cell_type": "code",
   "execution_count": 28,
   "metadata": {},
   "outputs": [
    {
     "name": "stdout",
     "output_type": "stream",
     "text": [
      "blogis\n"
     ]
    }
   ],
   "source": [
    "blogas = zodynas.pop('evil')\n",
    "print(blogas)"
   ]
  },
  {
   "cell_type": "code",
   "execution_count": 29,
   "metadata": {},
   "outputs": [
    {
     "name": "stdout",
     "output_type": "stream",
     "text": [
      "blogis\n"
     ]
    }
   ],
   "source": [
    "blogis = zodynas.pop ('bad', 'blogis')\n",
    "print(blogis)"
   ]
  },
  {
   "cell_type": "code",
   "execution_count": 30,
   "metadata": {},
   "outputs": [
    {
     "data": {
      "text/plain": [
       "{}"
      ]
     },
     "execution_count": 30,
     "metadata": {},
     "output_type": "execute_result"
    }
   ],
   "source": [
    "zmones.clear()\n",
    "zmones"
   ]
  },
  {
   "cell_type": "code",
   "execution_count": null,
   "metadata": {},
   "outputs": [],
   "source": [
    "zmones = {}"
   ]
  },
  {
   "cell_type": "code",
   "execution_count": 31,
   "metadata": {},
   "outputs": [
    {
     "name": "stdout",
     "output_type": "stream",
     "text": [
      "{'Milda': 'Gyvunus megeja', 'Andrius': 'Furistas'}\n"
     ]
    }
   ],
   "source": [
    "zmones['Milda'] = 'Gyvunus megeja'\n",
    "zmones ['Andrius'] = 'Furistas'\n",
    "print(zmones)"
   ]
  },
  {
   "cell_type": "code",
   "execution_count": null,
   "metadata": {},
   "outputs": [],
   "source": []
  }
 ],
 "metadata": {
  "kernelspec": {
   "display_name": "venv",
   "language": "python",
   "name": "python3"
  },
  "language_info": {
   "codemirror_mode": {
    "name": "ipython",
    "version": 3
   },
   "file_extension": ".py",
   "mimetype": "text/x-python",
   "name": "python",
   "nbconvert_exporter": "python",
   "pygments_lexer": "ipython3",
   "version": "3.11.3"
  },
  "orig_nbformat": 4
 },
 "nbformat": 4,
 "nbformat_minor": 2
}
