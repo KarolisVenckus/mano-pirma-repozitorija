{
 "cells": [
  {
   "attachments": {},
   "cell_type": "markdown",
   "metadata": {},
   "source": [
    "## SIMBOLIU EILUCIU METODAI"
   ]
  },
  {
   "cell_type": "code",
   "execution_count": 2,
   "metadata": {},
   "outputs": [
    {
     "name": "stdout",
     "output_type": "stream",
     "text": [
      "sveikit\n"
     ]
    }
   ],
   "source": [
    "print(\"sveikit\")"
   ]
  },
  {
   "cell_type": "code",
   "execution_count": 5,
   "metadata": {},
   "outputs": [
    {
     "name": "stdout",
     "output_type": "stream",
     "text": [
      "SVEIKAS DESTYTOJAU!\n"
     ]
    }
   ],
   "source": [
    "sakinys = \"Sveikas destytojau!\"\n",
    "sakinys_didziosiom = sakinys.upper()\n",
    "print(sakinys_didziosiom)"
   ]
  },
  {
   "cell_type": "code",
   "execution_count": 4,
   "metadata": {},
   "outputs": [
    {
     "name": "stdout",
     "output_type": "stream",
     "text": [
      "sveikas destytojau!\n"
     ]
    }
   ],
   "source": [
    "sakinys_mazosiom = sakinys.lower()\n",
    "print(sakinys_mazosiom)"
   ]
  },
  {
   "cell_type": "code",
   "execution_count": 7,
   "metadata": {},
   "outputs": [
    {
     "name": "stdout",
     "output_type": "stream",
     "text": [
      "8\n"
     ]
    }
   ],
   "source": [
    "print(sakinys.find('dest'))"
   ]
  },
  {
   "cell_type": "code",
   "execution_count": 9,
   "metadata": {},
   "outputs": [
    {
     "name": "stdout",
     "output_type": "stream",
     "text": [
      "8\n"
     ]
    }
   ],
   "source": [
    "print(sakinys.find('d'))"
   ]
  },
  {
   "cell_type": "code",
   "execution_count": 23,
   "metadata": {},
   "outputs": [
    {
     "name": "stdout",
     "output_type": "stream",
     "text": [
      "radau ties 0\n"
     ]
    }
   ],
   "source": [
    "radinys = sakinys.find('S')\n",
    "if radinys >= 0:\n",
    "    print('radau ties', radinys)\n",
    "else:\n",
    "    print('neradau')"
   ]
  },
  {
   "cell_type": "code",
   "execution_count": 17,
   "metadata": {},
   "outputs": [
    {
     "name": "stdout",
     "output_type": "stream",
     "text": [
      "hello destytojau!\n"
     ]
    }
   ],
   "source": [
    "pakeistas = sakinys.replace('Sveikas', 'hello')\n",
    "print(pakeistas)"
   ]
  },
  {
   "cell_type": "code",
   "execution_count": 24,
   "metadata": {},
   "outputs": [
    {
     "name": "stdout",
     "output_type": "stream",
     "text": [
      "Obuolys | Apelsinas | Kriause\n"
     ]
    }
   ],
   "source": [
    "vaisiai = ['Obuolys', 'Apelsinas', 'Kriause']\n",
    "isvardinti_vaisiai = \" | \".join(vaisiai)\n",
    "print(isvardinti_vaisiai)"
   ]
  },
  {
   "cell_type": "code",
   "execution_count": 26,
   "metadata": {},
   "outputs": [
    {
     "name": "stdout",
     "output_type": "stream",
     "text": [
      "['Sveikas', 'destytojau!']\n"
     ]
    }
   ],
   "source": [
    "print(sakinys.split())"
   ]
  },
  {
   "attachments": {},
   "cell_type": "markdown",
   "metadata": {},
   "source": [
    "## UZDUOTYS"
   ]
  },
  {
   "cell_type": "code",
   "execution_count": 27,
   "metadata": {},
   "outputs": [
    {
     "name": "stdout",
     "output_type": "stream",
     "text": [
      "As esu studentas\n"
     ]
    }
   ],
   "source": [
    "tekstas = \"As esu studentas\""
   ]
  },
  {
   "cell_type": "code",
   "execution_count": 31,
   "metadata": {},
   "outputs": [
    {
     "name": "stdout",
     "output_type": "stream",
     "text": [
      "AS ESU STUDENTAS\n"
     ]
    }
   ],
   "source": [
    "tekstas = (\"As esu studentas\")\n",
    "tekstas_didziosiom = tekstas.upper()\n",
    "print(tekstas_didziosiom)\n"
   ]
  },
  {
   "cell_type": "code",
   "execution_count": 32,
   "metadata": {},
   "outputs": [
    {
     "name": "stdout",
     "output_type": "stream",
     "text": [
      "as esu studentas\n"
     ]
    }
   ],
   "source": [
    "tekstas_mazosiom = tekstas.lower()\n",
    "print(tekstas_mazosiom)"
   ]
  },
  {
   "cell_type": "code",
   "execution_count": 33,
   "metadata": {},
   "outputs": [
    {
     "name": "stdout",
     "output_type": "stream",
     "text": [
      "As   Esu   studentas\n"
     ]
    }
   ],
   "source": [
    "Zodziai = ['As', 'Esu', 'studentas']\n",
    "Su_tarpais = '   '.join(Zodziai)\n",
    "print(Su_tarpais)"
   ]
  },
  {
   "cell_type": "code",
   "execution_count": 35,
   "metadata": {},
   "outputs": [
    {
     "name": "stdout",
     "output_type": "stream",
     "text": [
      "['As', 'esu', 'studentas']\n"
     ]
    }
   ],
   "source": [
    "print(tekstas.split())"
   ]
  },
  {
   "cell_type": "code",
   "execution_count": 37,
   "metadata": {},
   "outputs": [
    {
     "name": "stdout",
     "output_type": "stream",
     "text": [
      "7\n"
     ]
    }
   ],
   "source": [
    "radinys = tekstas.find('studentas')\n",
    "print(radinys)"
   ]
  },
  {
   "cell_type": "code",
   "execution_count": 38,
   "metadata": {},
   "outputs": [
    {
     "name": "stdout",
     "output_type": "stream",
     "text": [
      "As esu programuotojas\n"
     ]
    }
   ],
   "source": [
    "pakeisti = tekstas.replace('studentas', 'programuotojas')\n",
    "print(pakeisti)"
   ]
  },
  {
   "attachments": {},
   "cell_type": "markdown",
   "metadata": {},
   "source": [
    "## Teksto formatavimas"
   ]
  },
  {
   "cell_type": "code",
   "execution_count": 44,
   "metadata": {},
   "outputs": [
    {
     "name": "stdout",
     "output_type": "stream",
     "text": [
      "Sveiki as esu, Karolis man yra 22 metu\n"
     ]
    }
   ],
   "source": [
    "vardas = \"Karolis\"\n",
    "amzius = 22\n",
    "tekstas = \"Sveiki as esu, \" + vardas \\\n",
    "    + \" man yra \" + str(amzius) + \" metu\"\n",
    "print(tekstas)"
   ]
  },
  {
   "cell_type": "code",
   "execution_count": 49,
   "metadata": {},
   "outputs": [
    {
     "name": "stdout",
     "output_type": "stream",
     "text": [
      "Sveiki, as esu Karolis ir man yra 22 metai\n"
     ]
    }
   ],
   "source": [
    "tekstas = \"Sveiki, as esu %s ir man yra %d metai\" % (vardas, amzius)\n",
    "print(tekstas)"
   ]
  },
  {
   "cell_type": "code",
   "execution_count": 50,
   "metadata": {},
   "outputs": [
    {
     "name": "stdout",
     "output_type": "stream",
     "text": [
      "sveiki, as esu Karolis ir man yra 22 metu\n"
     ]
    }
   ],
   "source": [
    "tekstas = \"sveiki, as esu {} ir man yra {} metu\".format (vardas, amzius)\n",
    "print(tekstas)"
   ]
  },
  {
   "cell_type": "code",
   "execution_count": 51,
   "metadata": {},
   "outputs": [
    {
     "name": "stdout",
     "output_type": "stream",
     "text": [
      "sveiki as esu Karolis, man yra 22 metai\n"
     ]
    }
   ],
   "source": [
    "tekstas = f\"sveiki as esu {vardas}, man yra {amzius} metai\"\n",
    "print(tekstas)"
   ]
  },
  {
   "cell_type": "code",
   "execution_count": 52,
   "metadata": {},
   "outputs": [
    {
     "name": "stdout",
     "output_type": "stream",
     "text": [
      "suformatuotas skaicius: 1,234,567.89\n"
     ]
    }
   ],
   "source": [
    "skaicius = 1234567.89\n",
    "print(f\"suformatuotas skaicius: {skaicius:,.2f}\")"
   ]
  },
  {
   "cell_type": "code",
   "execution_count": 53,
   "metadata": {},
   "outputs": [
    {
     "name": "stdout",
     "output_type": "stream",
     "text": [
      "suformatuotas skaicius: 1234\n"
     ]
    }
   ],
   "source": [
    "skaicius = 1234.0\n",
    "print(f\"suformatuotas skaicius: {skaicius:g}\")"
   ]
  },
  {
   "cell_type": "code",
   "execution_count": 58,
   "metadata": {},
   "outputs": [
    {
     "name": "stdout",
     "output_type": "stream",
     "text": [
      "obuolys, kriause, bananas; obuolys, kriause, bananas\n"
     ]
    }
   ],
   "source": [
    "print(\"obuolys\", \"kriause\", \"bananas\", sep=\", \", end=\"; \")\n",
    "print(\"obuolys\", \"kriause\", \"bananas\", sep=\", \")"
   ]
  },
  {
   "cell_type": "code",
   "execution_count": null,
   "metadata": {},
   "outputs": [],
   "source": []
  }
 ],
 "metadata": {
  "kernelspec": {
   "display_name": "venv",
   "language": "python",
   "name": "python3"
  },
  "language_info": {
   "codemirror_mode": {
    "name": "ipython",
    "version": 3
   },
   "file_extension": ".py",
   "mimetype": "text/x-python",
   "name": "python",
   "nbconvert_exporter": "python",
   "pygments_lexer": "ipython3",
   "version": "3.11.3"
  },
  "orig_nbformat": 4
 },
 "nbformat": 4,
 "nbformat_minor": 2
}
