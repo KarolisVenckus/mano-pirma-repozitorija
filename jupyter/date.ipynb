{
 "cells": [
  {
   "cell_type": "code",
   "execution_count": 2,
   "metadata": {},
   "outputs": [
    {
     "name": "stdout",
     "output_type": "stream",
     "text": [
      "37:07\n"
     ]
    }
   ],
   "source": [
    "import datetime\n",
    "\n",
    "from datetime import datetime\n",
    "\n",
    "dabar = datetime.now()\n",
    "format_string = \"%M:%S\"\n",
    "\n",
    "laikas = dabar.strftime(format_string)\n",
    "print(laikas)"
   ]
  },
  {
   "cell_type": "code",
   "execution_count": 7,
   "metadata": {},
   "outputs": [
    {
     "name": "stdout",
     "output_type": "stream",
     "text": [
      "There are 220 days until ur birthday. \n"
     ]
    }
   ],
   "source": [
    "from datetime import datetime\n",
    "\n",
    "def days_until_birthday(birthday):\n",
    "    birthday_format = datetime.strptime(birthday, \"%Y-%m-%d\")\n",
    "    siandiena = datetime.now()\n",
    "    birthday = birthday_format.replace(year= siandiena.year)\n",
    "\n",
    "\n",
    "    if birthday < siandiena:\n",
    "        birthday = birthday.replace(year=siandiena.year+1)\n",
    "\n",
    "    change = birthday - siandiena\n",
    "    return change.days\n",
    "\n",
    "breakpoint = \"2000-12-01\"\n",
    "print(f\"There are {days_until_birthday (breakpoint)} days until ur birthday. \")"
   ]
  },
  {
   "cell_type": "code",
   "execution_count": 10,
   "metadata": {},
   "outputs": [
    {
     "name": "stdout",
     "output_type": "stream",
     "text": [
      "2023-05-23 15:30\n"
     ]
    }
   ],
   "source": [
    "from datetime import datetime, timedelta\n",
    "\n",
    "def add_48_hours(date_string):\n",
    "    # konvertuojame stringą į datetime objektą\n",
    "    date_time = datetime.strptime(date_string, '%Y-%m-%d %H:%M')\n",
    "    \n",
    "    # pridedame 48 valandas\n",
    "    new_date_time = date_time + timedelta(hours=48)\n",
    "    \n",
    "    # konvertuojame naują datetime objektą atgal į stringą ir grąžiname\n",
    "    return new_date_time.strftime('%Y-%m-%d %H:%M')\n",
    "\n",
    "# pavyzdinis kvietimas\n",
    "print(add_48_hours('2023-05-21 15:30'))"
   ]
  },
  {
   "cell_type": "code",
   "execution_count": 12,
   "metadata": {},
   "outputs": [
    {
     "name": "stdout",
     "output_type": "stream",
     "text": [
      "6\n"
     ]
    }
   ],
   "source": [
    "from datetime import datetime\n",
    "\n",
    "def days_between(timestamp1, timestamp2):\n",
    "    # konvertuojame timestamp'us į datetime objektus\n",
    "    date1 = datetime.fromtimestamp(timestamp1)\n",
    "    date2 = datetime.fromtimestamp(timestamp2)\n",
    "    \n",
    "    # apskaičiuojame laikotarpio skirtumą dienomis ir grąžiname\n",
    "    return abs((date2 - date1).days)\n",
    "\n",
    "# pavyzdinis kvietimas\n",
    "timestamp1 = 1649569600  # 2022-04-09 00:00:00\n",
    "timestamp2 = 1650151199  # 2022-04-15 23:59:59\n",
    "print(days_between(timestamp1, timestamp2))  # grąžins 6"
   ]
  },
  {
   "cell_type": "code",
   "execution_count": 22,
   "metadata": {},
   "outputs": [
    {
     "name": "stdout",
     "output_type": "stream",
     "text": [
      "Ketvirtadienis\n"
     ]
    }
   ],
   "source": [
    "from datetime import datetime\n",
    "\n",
    "def weekday(date_str):\n",
    "    # konvertuojame stringą į datetime objektą ir išgauname savaitės dienos indeksą\n",
    "    date = datetime.strptime(date_str, '%Y-%m-%d')\n",
    "    weekday_index = date.weekday()\n",
    "    \n",
    "    # suformuojame savaitės dienų sąrašą ir grąžiname atitinkamą dieną pagal indeksą\n",
    "    weekdays = ['Pirmadienis', 'Antradienis', 'Trečiadienis', 'Ketvirtadienis', 'Penktadienis', 'Šeštadienis', 'Sekmadienis']\n",
    "    return weekdays[weekday_index]\n",
    "\n",
    "# pavyzdinis kvietimas\n",
    "date_str = '2023-06-01'\n",
    "print(weekday(date_str))  # grąžins 'Ketvirtadienis'"
   ]
  },
  {
   "cell_type": "code",
   "execution_count": 25,
   "metadata": {},
   "outputs": [
    {
     "name": "stdout",
     "output_type": "stream",
     "text": [
      "2023-04-24 12:00:01.290054\n"
     ]
    }
   ],
   "source": [
    "from datetime import datetime\n",
    "\n",
    "utc_now = datetime.utcnow()\n",
    "print(utc_now)"
   ]
  },
  {
   "cell_type": "code",
   "execution_count": 43,
   "metadata": {},
   "outputs": [],
   "source": [
    "from zoneinfo import available_timezones\n",
    "\n",
    "america_time_zones = []\n",
    "\n",
    "for tz in available_timezones():\n",
    "    if \"America\" in tz:\n",
    "        america_time_zones.append(tz)\n",
    "\n",
    "for time_zone in america_time_zones:\n",
    "    print(time_zone)"
   ]
  },
  {
   "cell_type": "code",
   "execution_count": 44,
   "metadata": {},
   "outputs": [
    {
     "name": "stdout",
     "output_type": "stream",
     "text": [
      "Laiko zonos sėkmingai išvestos į failą \"america_time_zones.txt\"\n"
     ]
    }
   ],
   "source": [
    "from zoneinfo import available_timezones\n",
    "\n",
    "america_time_zones = []\n",
    "\n",
    "# surinkime visus 'America' turinčius laiko zonų pavadinimus į atskirą sąrašą\n",
    "for tz in available_timezones():\n",
    "    if \"America\" in tz:\n",
    "        america_time_zones.append(tz)\n",
    "\n",
    "# atsidarome failą 'america_time_zones.txt' rašymui ir išvedame visas gautas laiko zonas į jį\n",
    "with open('america_time_zones.txt', 'w') as file:\n",
    "    for time_zone in america_time_zones:\n",
    "        file.write(time_zone + '\\n')\n",
    "\n",
    "# patvirtiname, kad failas sėkmingai sukurtas\n",
    "print('Laiko zonos sėkmingai išvestos į failą \"america_time_zones.txt\"')"
   ]
  }
 ],
 "metadata": {
  "kernelspec": {
   "display_name": "venv",
   "language": "python",
   "name": "python3"
  },
  "language_info": {
   "codemirror_mode": {
    "name": "ipython",
    "version": 3
   },
   "file_extension": ".py",
   "mimetype": "text/x-python",
   "name": "python",
   "nbconvert_exporter": "python",
   "pygments_lexer": "ipython3",
   "version": "3.11.3"
  },
  "orig_nbformat": 4
 },
 "nbformat": 4,
 "nbformat_minor": 2
}
