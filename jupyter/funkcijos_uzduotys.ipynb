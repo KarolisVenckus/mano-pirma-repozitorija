{
 "cells": [
  {
   "cell_type": "code",
   "execution_count": 3,
   "metadata": {},
   "outputs": [
    {
     "name": "stdout",
     "output_type": "stream",
     "text": [
      "sdneirf olleh\n"
     ]
    }
   ],
   "source": [
    "def atbulom(sarasas):\n",
    "    return sarasas[::-1]\n",
    "\n",
    "print(atbulom(\"hello friends\"))"
   ]
  },
  {
   "cell_type": "code",
   "execution_count": 7,
   "metadata": {},
   "outputs": [
    {
     "name": "stdout",
     "output_type": "stream",
     "text": [
      "9.921567416492215\n"
     ]
    }
   ],
   "source": [
    "def trikampio_plotas(a, b, c):\n",
    "    s = (a + b + c) / 2\n",
    "    plotas = (s * (s - a) * (s - b) * (s - c)) ** 0.5\n",
    "    return plotas\n",
    "\n",
    "a = 4\n",
    "b = 5\n",
    "c = 6\n",
    "trikampio_plotas = trikampio_plotas(a, b, c)\n",
    "print(trikampio_plotas)"
   ]
  },
  {
   "cell_type": "code",
   "execution_count": 18,
   "metadata": {},
   "outputs": [
    {
     "name": "stdout",
     "output_type": "stream",
     "text": [
      "['Labas,']\n"
     ]
    }
   ],
   "source": [
    "def zodziu_ilgis(sakinys, ilgis):\n",
    "    zodziai = sakinys.split()\n",
    "    ilgio_zodziai = []\n",
    "    for zodis in zodziai:\n",
    "        if len(zodis) == ilgis:\n",
    "            ilgio_zodziai.append(zodis)\n",
    "        return ilgio_zodziai\n",
    "    \n",
    "sakinys = \"Labas, kaip laikais?\"\n",
    "ilgis = 6\n",
    "zodziai = zodziu_ilgis(sakinys, ilgis)\n",
    "print(zodziai)"
   ]
  },
  {
   "cell_type": "code",
   "execution_count": 20,
   "metadata": {},
   "outputs": [
    {
     "name": "stdout",
     "output_type": "stream",
     "text": [
      "<function didziausias_skaicius at 0x00000238E8ADBD80>\n"
     ]
    }
   ],
   "source": [
    "def didziausias_skaicius(skaiciai):\n",
    "    didziausias = skaiciai[0]\n",
    "    for skaicius in skaiciai:\n",
    "        if skaicius > didziausias:\n",
    "            didziausias = skaicius\n",
    "    return didziausias\n",
    "\n",
    "skaiciai = [4, 2, 7, 1, 9, 5]\n",
    "didziausias = didziausias_skaicius(skaiciai)\n",
    "print(didziausias_skaicius)\n"
   ]
  },
  {
   "cell_type": "code",
   "execution_count": 21,
   "metadata": {},
   "outputs": [
    {
     "name": "stdout",
     "output_type": "stream",
     "text": [
      "['arklys', 'ananasas', 'apple']\n"
     ]
    }
   ],
   "source": [
    "def rinkti_zodzius_pagal_raide(zodziai, raide):\n",
    "    raides_zodziai = []\n",
    "    for zodis in zodziai:\n",
    "        if zodis[0] == raide:\n",
    "            raides_zodziai.append(zodis)\n",
    "    return raides_zodziai\n",
    "\n",
    "zodziai = [\"arklys\", \"ananasas\", 'apple', 'watch', 'bamboo']\n",
    "raide = \"a\"\n",
    "a_zodziai = rinkti_zodzius_pagal_raide(zodziai, raide)\n",
    "print(a_zodziai)"
   ]
  },
  {
   "cell_type": "code",
   "execution_count": 23,
   "metadata": {},
   "outputs": [
    {
     "name": "stdout",
     "output_type": "stream",
     "text": [
      "['Labas,', 'kaip', 'savo', 'kelione?']\n"
     ]
    }
   ],
   "source": [
    "def rinkti_lyginio_ilgio_zodzius(tekstas):\n",
    "    zodziai = tekstas.split()\n",
    "    lyginio_ilgio_zodziai = []\n",
    "    for zodis in zodziai:\n",
    "        if len(zodis) % 2 == 0:\n",
    "            lyginio_ilgio_zodziai.append(zodis)\n",
    "    return lyginio_ilgio_zodziai\n",
    "\n",
    "tekstas = \"Labas, kaip praleidai savo kelione?\"\n",
    "lyginio_ilgio_zodziai = rinkti_lyginio_ilgio_zodzius(tekstas)\n",
    "print(lyginio_ilgio_zodziai)"
   ]
  },
  {
   "cell_type": "code",
   "execution_count": 2,
   "metadata": {},
   "outputs": [],
   "source": [
    "def apskritimo_plotas(spindulys, pi=3.14):\n",
    "    plotas = pi * (spindulys ** 2)\n",
    "    return plotas"
   ]
  },
  {
   "cell_type": "code",
   "execution_count": 12,
   "metadata": {},
   "outputs": [
    {
     "name": "stdout",
     "output_type": "stream",
     "text": [
      "{'atsumas': 240, 'sanaudos': 16.8, 'islaidos': 20.16}\n"
     ]
    }
   ],
   "source": [
    "def keliones_informacia(keliones_trukme, greitis, vartojimas=7, kuro_kaina=1.2):\n",
    "    atstumas = keliones_trukme * greitis\n",
    "    sanaudos = atstumas * vartojimas /100\n",
    "    islaidos = sanaudos * kuro_kaina\n",
    "\n",
    "    return {\n",
    "        'atsumas': atstumas,\n",
    "        'sanaudos': sanaudos,\n",
    "        'islaidos': islaidos\n",
    "    }\n",
    "keliones_info = keliones_informacia(4, 60)\n",
    "print(keliones_info)"
   ]
  },
  {
   "cell_type": "code",
   "execution_count": 13,
   "metadata": {},
   "outputs": [
    {
     "name": "stdout",
     "output_type": "stream",
     "text": [
      "5\n",
      "10\n"
     ]
    }
   ],
   "source": [
    "def didziausias(*args):\n",
    "    if len(args) == 0:\n",
    "        return None\n",
    "    didziausia_reiksme = args[0]\n",
    "    for arg in args:\n",
    "        if arg > didziausia_reiksme:\n",
    "            didziausia_reiksme = arg\n",
    "    return didziausia_reiksme\n",
    "\n",
    "print(didziausias(1, 2, 3, 4, 5))\n",
    "print(didziausias(-5, 10, 3, -2))"
   ]
  },
  {
   "cell_type": "code",
   "execution_count": 20,
   "metadata": {},
   "outputs": [
    {
     "name": "stdout",
     "output_type": "stream",
     "text": [
      "{'vardas': 'Jonas'}\n",
      "{}\n"
     ]
    }
   ],
   "source": [
    "def raktai(**kwargs):\n",
    "    nurodyti_raktai = {}\n",
    "    for key in kwargs:\n",
    "        if key in [\"vardas\", \"amzius\", \"miestas\", \"metai\"]:\n",
    "            nurodyti_raktai[key] = kwargs[key]\n",
    "        return nurodyti_raktai\n",
    "    \n",
    "print(raktai(vardas=\"Jonas\", amzius=30, miestas=\"Vilnius\", metai=2023))\n",
    "print(raktai(pavadinimas=\"Python\"))"
   ]
  },
  {
   "cell_type": "code",
   "execution_count": 21,
   "metadata": {},
   "outputs": [],
   "source": [
    "def sujungtas_sarasas(*argas, **kwargs):\n",
    "    visi_elementai= list(args)\n",
    "    visi_elementai += list(kwargs.values())\n",
    "    return visi_elementai"
   ]
  },
  {
   "cell_type": "code",
   "execution_count": 22,
   "metadata": {},
   "outputs": [
    {
     "name": "stdout",
     "output_type": "stream",
     "text": [
      "[13, 25, 85, 12, 120, 13]\n"
     ]
    }
   ],
   "source": [
    "skaiciai = [1, 13, 7, 25, 8, 85, 12, 120, 1, 13]\n",
    "didziau_nei_10 = list(filter(lambda x: x > 10, skaiciai))\n",
    "print(didziau_nei_10)"
   ]
  },
  {
   "cell_type": "code",
   "execution_count": 23,
   "metadata": {},
   "outputs": [
    {
     "name": "stdout",
     "output_type": "stream",
     "text": [
      "7.0\n"
     ]
    }
   ],
   "source": [
    "skaiciai = [5, 6, 7, 8, 9]\n",
    "vidurkis = lambda x: sum(x) / len(x)\n",
    "\n",
    "print(vidurkis(skaiciai))"
   ]
  },
  {
   "cell_type": "code",
   "execution_count": 25,
   "metadata": {},
   "outputs": [
    {
     "name": "stdout",
     "output_type": "stream",
     "text": [
      "70\n"
     ]
    }
   ],
   "source": [
    "didziausias_skaicius = lambda x, y, z: max(x, y, z)\n",
    "\n",
    "print(didziausias_skaicius(10, 20, 70))"
   ]
  }
 ],
 "metadata": {
  "kernelspec": {
   "display_name": "venv",
   "language": "python",
   "name": "python3"
  },
  "language_info": {
   "codemirror_mode": {
    "name": "ipython",
    "version": 3
   },
   "file_extension": ".py",
   "mimetype": "text/x-python",
   "name": "python",
   "nbconvert_exporter": "python",
   "pygments_lexer": "ipython3",
   "version": "3.11.3"
  },
  "orig_nbformat": 4
 },
 "nbformat": 4,
 "nbformat_minor": 2
}
