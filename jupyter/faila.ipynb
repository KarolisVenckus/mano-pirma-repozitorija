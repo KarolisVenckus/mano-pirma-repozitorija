{
 "cells": [
  {
   "cell_type": "code",
   "execution_count": 11,
   "metadata": {},
   "outputs": [
    {
     "name": "stdout",
     "output_type": "stream",
     "text": [
      "\n"
     ]
    }
   ],
   "source": [
    "joke_file = open(\"jokes.txt\", \"r\")\n",
    "jokes = joke_file.read()\n",
    "joke_file.close()\n",
    "print(jokes)\n"
   ]
  },
  {
   "cell_type": "code",
   "execution_count": 15,
   "metadata": {},
   "outputs": [
    {
     "ename": "ValueError",
     "evalue": "I/O operation on closed file.",
     "output_type": "error",
     "traceback": [
      "\u001b[1;31m---------------------------------------------------------------------------\u001b[0m",
      "\u001b[1;31mValueError\u001b[0m                                Traceback (most recent call last)",
      "Cell \u001b[1;32mIn[15], line 2\u001b[0m\n\u001b[0;32m      1\u001b[0m \u001b[39mwith\u001b[39;00m \u001b[39mopen\u001b[39m(\u001b[39m\"\u001b[39m\u001b[39mjokes.txt\u001b[39m\u001b[39m\"\u001b[39m, \u001b[39m\"\u001b[39m\u001b[39mr\u001b[39m\u001b[39m\"\u001b[39m) \u001b[39mas\u001b[39;00m jokes_file:\n\u001b[1;32m----> 2\u001b[0m     jokes \u001b[39m=\u001b[39m joke_file\u001b[39m.\u001b[39;49mread()\n\u001b[0;32m      3\u001b[0m     \u001b[39mprint\u001b[39m(jokes)\n",
      "\u001b[1;31mValueError\u001b[0m: I/O operation on closed file."
     ]
    }
   ],
   "source": [
    "with open(\"jokes.txt\", \"r\") as jokes_file:\n",
    "    jokes = joke_file.read()\n",
    "print(jokes)"
   ]
  },
  {
   "cell_type": "code",
   "execution_count": 16,
   "metadata": {},
   "outputs": [],
   "source": [
    "import json\n",
    "\n",
    "saldytuvas = {\"Obuoliai\": 7, \"braskes\": 0.7, \"Pienas\": 3, \"kava\": 0.65}\n",
    "with open(\"saldytuvas.json\", \"w\", encoding=\"UTF-8\") as json_file:\n",
    "    json.dump(saldytuvas, json_file)"
   ]
  },
  {
   "cell_type": "code",
   "execution_count": 18,
   "metadata": {},
   "outputs": [
    {
     "name": "stdout",
     "output_type": "stream",
     "text": [
      "{'Obuoliai': 7, 'braskes': 0.7, 'Pienas': 3, 'kava': 0.65}\n"
     ]
    }
   ],
   "source": [
    "with open (\"saldytuvas.json\", \"r\", encoding=\"utf-8\") as json_file:\n",
    "    saldytuvas = json.load(json_file)\n",
    "print(saldytuvas)\n"
   ]
  }
 ],
 "metadata": {
  "kernelspec": {
   "display_name": "venv",
   "language": "python",
   "name": "python3"
  },
  "language_info": {
   "codemirror_mode": {
    "name": "ipython",
    "version": 3
   },
   "file_extension": ".py",
   "mimetype": "text/x-python",
   "name": "python",
   "nbconvert_exporter": "python",
   "pygments_lexer": "ipython3",
   "version": "3.11.3"
  },
  "orig_nbformat": 4
 },
 "nbformat": 4,
 "nbformat_minor": 2
}
