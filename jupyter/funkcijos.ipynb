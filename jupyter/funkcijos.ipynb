{
 "cells": [
  {
   "cell_type": "code",
   "execution_count": 16,
   "metadata": {},
   "outputs": [
    {
     "name": "stdout",
     "output_type": "stream",
     "text": [
      "Labas Studente\n",
      "Labas Zmogau\n"
     ]
    }
   ],
   "source": [
    "def pasisveikinti(vardas):\n",
    "    print(f\"Labas {vardas}\")\n",
    "    \n",
    "pasisveikinti(\"Studente\")\n",
    "pasisveikinti(\"Zmogau\")"
   ]
  },
  {
   "cell_type": "code",
   "execution_count": 24,
   "metadata": {},
   "outputs": [
    {
     "name": "stdout",
     "output_type": "stream",
     "text": [
      "Skaicus yra nelyginis\n"
     ]
    }
   ],
   "source": [
    "def lyginis_nelyginis(skaicius):\n",
    "    if skaicius % 2 == 0:\n",
    "        print(\"Sakicius yra lyginis.\")\n",
    "    else:\n",
    "        print(\"Skaicus yra nelyginis\")\n",
    "\n",
    "lyginis_nelyginis(5)"
   ]
  },
  {
   "cell_type": "code",
   "execution_count": 26,
   "metadata": {},
   "outputs": [
    {
     "name": "stdout",
     "output_type": "stream",
     "text": [
      "Skaicius ra neigiamas\n"
     ]
    }
   ],
   "source": [
    "def teigiamas_neigiamas(skaic):\n",
    "    if skaic > 0:\n",
    "        print(\"Skaicius yra teigimas\")\n",
    "    else:\n",
    "        print(\"Skaicius yra neigiamas\")\n",
    "\n",
    "teigiamas_neigiamas(-2)"
   ]
  },
  {
   "cell_type": "code",
   "execution_count": 32,
   "metadata": {},
   "outputs": [
    {
     "name": "stdout",
     "output_type": "stream",
     "text": [
      "skaicus yra mazesnis negu 25.\n"
     ]
    }
   ],
   "source": [
    "def ar_daugiau_nei(numeris, riba):\n",
    "    if numeris > riba:\n",
    "        print(f\"skaicus yra didesnis negu {riba}.\")\n",
    "    else:\n",
    "        print(f\"skaicus yra mazesnis negu {riba}.\")\n",
    "\n",
    "ar_daugiau_nei(24, 25)"
   ]
  },
  {
   "cell_type": "code",
   "execution_count": 33,
   "metadata": {},
   "outputs": [
    {
     "name": "stdout",
     "output_type": "stream",
     "text": [
      "SABAL\n"
     ]
    }
   ],
   "source": [
    "def atbulai(tekstas):\n",
    "    return tekstas[::-1]\n",
    "\n",
    "print(atbulai(\"LABAS\"))"
   ]
  },
  {
   "cell_type": "code",
   "execution_count": 34,
   "metadata": {},
   "outputs": [
    {
     "name": "stdout",
     "output_type": "stream",
     "text": [
      "utar isakus satar\n"
     ]
    }
   ],
   "source": [
    "ratas_atbulai = atbulai(\"ratas sukasi ratu\")\n",
    "print(ratas_atbulai)"
   ]
  },
  {
   "cell_type": "code",
   "execution_count": 39,
   "metadata": {},
   "outputs": [
    {
     "name": "stdout",
     "output_type": "stream",
     "text": [
      "4\n"
     ]
    }
   ],
   "source": [
    "def daugyba(x, y):\n",
    "    return x * y\n",
    "\n",
    "print(daugyba(2, 2))"
   ]
  },
  {
   "cell_type": "code",
   "execution_count": 41,
   "metadata": {},
   "outputs": [
    {
     "name": "stdout",
     "output_type": "stream",
     "text": [
      "('Pirmas', 'Antras')\n",
      "Pirmas Antras\n"
     ]
    }
   ],
   "source": [
    "def kiaura(par1, par2):\n",
    "    return par1, par2\n",
    "\n",
    "print(kiaura(\"Pirmas\", \"Antras\"))\n",
    "pirmas, antras = kiaura(\"Pirmas\", \"Antras\")\n",
    "print(pirmas, antras)"
   ]
  },
  {
   "cell_type": "code",
   "execution_count": 48,
   "metadata": {},
   "outputs": [
    {
     "name": "stdout",
     "output_type": "stream",
     "text": [
      "([1, 2, 4, 6, 8], [-3, -5, -7, -9, -10, -11])\n"
     ]
    }
   ],
   "source": [
    "def teigiami_neigiami(skaiciu_sarasas):\n",
    "    teigiami = []\n",
    "    neigiami = []\n",
    "    kiti = []\n",
    "    for skaicius in skaiciu_sarasas:\n",
    "        if type(skaicius) == int or type(skaicius) == float:\n",
    "            if skaicius > 0:\n",
    "                teigiami.append(skaicius)\n",
    "            else:\n",
    "                neigiami.append(skaicius)\n",
    "        else:\n",
    "            kiti.append(skaicius)\n",
    "    return teigiami, neigiami\n",
    "    \n",
    "skaiciai = [1, 2, -3, 4, -5, 6, -7, 8, -9, -10, -11]\n",
    "print(teigiami_neigiami(skaiciai))"
   ]
  },
  {
   "cell_type": "code",
   "execution_count": 8,
   "metadata": {},
   "outputs": [],
   "source": [
    "    def gauti_kaina(kaina, nuolaida=0, pvm=21):\n",
    "        kaina *= (1-nuolaida/100)\n",
    "        kaina *= (1+pvm/100)\n",
    "        return kaina"
   ]
  },
  {
   "cell_type": "code",
   "execution_count": 7,
   "metadata": {},
   "outputs": [
    {
     "name": "stdout",
     "output_type": "stream",
     "text": [
      "121.0\n"
     ]
    }
   ],
   "source": [
    "print(gauti_kaina(100))"
   ]
  },
  {
   "cell_type": "code",
   "execution_count": 6,
   "metadata": {},
   "outputs": [
    {
     "name": "stdout",
     "output_type": "stream",
     "text": [
      "108.89999999999999\n"
     ]
    }
   ],
   "source": [
    "print(gauti_kaina(100, 10))"
   ]
  },
  {
   "cell_type": "code",
   "execution_count": 5,
   "metadata": {},
   "outputs": [
    {
     "name": "stdout",
     "output_type": "stream",
     "text": [
      "124.0\n"
     ]
    }
   ],
   "source": [
    "print(gauti_kaina(100, pvm=24))"
   ]
  },
  {
   "cell_type": "code",
   "execution_count": 4,
   "metadata": {},
   "outputs": [
    {
     "name": "stdout",
     "output_type": "stream",
     "text": [
      "99.2\n"
     ]
    }
   ],
   "source": [
    "print(gauti_kaina(100, 20, 24))"
   ]
  },
  {
   "cell_type": "code",
   "execution_count": 27,
   "metadata": {},
   "outputs": [],
   "source": [
    "def jungti(*args, skirtukas=\" \"):\n",
    "    words = []\n",
    "    for arg in args:\n",
    "        words.append(str(arg))\n",
    "    tekstas = skirtukas.join(words)\n",
    "    return tekstas"
   ]
  },
  {
   "cell_type": "code",
   "execution_count": 28,
   "metadata": {},
   "outputs": [
    {
     "data": {
      "text/plain": [
       "'Laba diena kaip sekasi?'"
      ]
     },
     "execution_count": 28,
     "metadata": {},
     "output_type": "execute_result"
    }
   ],
   "source": [
    "jungti(\"Laba\", \"diena\", \"kaip\", \"sekasi?\")"
   ]
  },
  {
   "cell_type": "code",
   "execution_count": 29,
   "metadata": {},
   "outputs": [
    {
     "data": {
      "text/plain": [
       "'1, 2, 3, 4, 5, 6'"
      ]
     },
     "execution_count": 29,
     "metadata": {},
     "output_type": "execute_result"
    }
   ],
   "source": [
    "jungti(1, 2, 3, 4, 5, 6, skirtukas=\", \")"
   ]
  },
  {
   "cell_type": "code",
   "execution_count": 30,
   "metadata": {},
   "outputs": [
    {
     "data": {
      "text/plain": [
       "'X|Y|Z'"
      ]
     },
     "execution_count": 30,
     "metadata": {},
     "output_type": "execute_result"
    }
   ],
   "source": [
    "jungti(\"X\", \"Y\", \"Z\", skirtukas=\"|\")"
   ]
  },
  {
   "cell_type": "code",
   "execution_count": 36,
   "metadata": {},
   "outputs": [],
   "source": [
    "def informacija(vardas, pavarde, *args):\n",
    "    print(f\"{vardas} {pavarde}: {', '.join(args)}\")"
   ]
  },
  {
   "cell_type": "code",
   "execution_count": 37,
   "metadata": {},
   "outputs": [
    {
     "name": "stdout",
     "output_type": "stream",
     "text": [
      "Geras studentas: viska stebi, atidziai\n"
     ]
    }
   ],
   "source": [
    "informacija(\"Geras\", \"studentas\", \"viska stebi\", \"atidziai\")"
   ]
  },
  {
   "cell_type": "code",
   "execution_count": 43,
   "metadata": {},
   "outputs": [],
   "source": [
    "def miksas(pavadinimas: str, *skaiciai, **kita):\n",
    "    print(pavadinimas)\n",
    "    print(sum(skaiciai))\n",
    "    for raktas, reiksme in kita.items():\n",
    "        print(f\"- {raktas}={str(reiksme)}\")"
   ]
  },
  {
   "cell_type": "code",
   "execution_count": 42,
   "metadata": {},
   "outputs": [
    {
     "name": "stdout",
     "output_type": "stream",
     "text": [
      "Kalnas\n",
      "3457\n"
     ]
    },
    {
     "ename": "ValueError",
     "evalue": "too many values to unpack (expected 2)",
     "output_type": "error",
     "traceback": [
      "\u001b[1;31m---------------------------------------------------------------------------\u001b[0m",
      "\u001b[1;31mValueError\u001b[0m                                Traceback (most recent call last)",
      "Cell \u001b[1;32mIn[42], line 1\u001b[0m\n\u001b[1;32m----> 1\u001b[0m miksas(\u001b[39m\"\u001b[39;49m\u001b[39mKalnas\u001b[39;49m\u001b[39m\"\u001b[39;49m, \u001b[39m20\u001b[39;49m, \u001b[39m30\u001b[39;49m, \u001b[39m400\u001b[39;49m, \u001b[39m3007\u001b[39;49m, apsniges\u001b[39m=\u001b[39;49m\u001b[39mFalse\u001b[39;49;00m, grazus\u001b[39m=\u001b[39;49m\u001b[39mTrue\u001b[39;49;00m, zmoniu\u001b[39m=\u001b[39;49m\u001b[39m\"\u001b[39;49m\u001b[39mdaug\u001b[39;49m\u001b[39m\"\u001b[39;49m)\n",
      "Cell \u001b[1;32mIn[38], line 4\u001b[0m, in \u001b[0;36mmiksas\u001b[1;34m(pavadinimas, *skaiciai, **kita)\u001b[0m\n\u001b[0;32m      2\u001b[0m \u001b[39mprint\u001b[39m(pavadinimas)\n\u001b[0;32m      3\u001b[0m \u001b[39mprint\u001b[39m(\u001b[39msum\u001b[39m(skaiciai))\n\u001b[1;32m----> 4\u001b[0m \u001b[39mfor\u001b[39;00m raktas, reiksme \u001b[39min\u001b[39;00m kita:\n\u001b[0;32m      5\u001b[0m     \u001b[39mprint\u001b[39m(\u001b[39mf\u001b[39m\u001b[39m\"\u001b[39m\u001b[39m- \u001b[39m\u001b[39m{\u001b[39;00mraktas\u001b[39m}\u001b[39;00m\u001b[39m=\u001b[39m\u001b[39m{\u001b[39;00mreiksme\u001b[39m}\u001b[39;00m\u001b[39m\"\u001b[39m)\n",
      "\u001b[1;31mValueError\u001b[0m: too many values to unpack (expected 2)"
     ]
    }
   ],
   "source": [
    "miksas(\"Kalnas\", 20, 30, 400, 3007, apsniges=False, grazus=True, zmoniu=\"daug\")"
   ]
  },
  {
   "cell_type": "code",
   "execution_count": 48,
   "metadata": {},
   "outputs": [
    {
     "name": "stdout",
     "output_type": "stream",
     "text": [
      "is programos:  Geras pirmadienis\n",
      "is funkcijos:  ...Ateina savaitgalis\n",
      "is funkcijos:  ...Ateina savaitgalis\n",
      "is programos:  Geras pirmadienis\n"
     ]
    }
   ],
   "source": [
    "bendras = \"Geras pirmadienis\"\n",
    "\n",
    "def penktadienis(bendras=\"\"):\n",
    "    #global bendras\n",
    "    bendras += \"...Ateina savaitgalis\"\n",
    "    print(\"is funkcijos: \", bendras)\n",
    "\n",
    "print(\"is programos: \", bendras)\n",
    "penktadienis()\n",
    "penktadienis()\n",
    "print(\"is programos: \", bendras)"
   ]
  },
  {
   "cell_type": "code",
   "execution_count": 50,
   "metadata": {},
   "outputs": [
    {
     "name": "stdout",
     "output_type": "stream",
     "text": [
      "11\n"
     ]
    }
   ],
   "source": [
    "suma = lambda *args: sum(args)\n",
    "print(suma(1, 2, 3, 5))"
   ]
  },
  {
   "cell_type": "code",
   "execution_count": 51,
   "metadata": {},
   "outputs": [],
   "source": [
    "kvadratu = lambda X: X**2"
   ]
  },
  {
   "cell_type": "code",
   "execution_count": 52,
   "metadata": {},
   "outputs": [
    {
     "name": "stdout",
     "output_type": "stream",
     "text": [
      "[4, 9, 49]\n"
     ]
    }
   ],
   "source": [
    "rez = map(kvadratu, [2, 3, 7])\n",
    "print(list(rez))"
   ]
  }
 ],
 "metadata": {
  "kernelspec": {
   "display_name": "venv",
   "language": "python",
   "name": "python3"
  },
  "language_info": {
   "codemirror_mode": {
    "name": "ipython",
    "version": 3
   },
   "file_extension": ".py",
   "mimetype": "text/x-python",
   "name": "python",
   "nbconvert_exporter": "python",
   "pygments_lexer": "ipython3",
   "version": "3.11.3"
  },
  "orig_nbformat": 4
 },
 "nbformat": 4,
 "nbformat_minor": 2
}
