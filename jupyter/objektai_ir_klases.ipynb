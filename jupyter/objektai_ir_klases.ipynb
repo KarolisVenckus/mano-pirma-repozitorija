{
 "cells": [
  {
   "attachments": {},
   "cell_type": "markdown",
   "metadata": {},
   "source": [
    "## Klase"
   ]
  },
  {
   "cell_type": "code",
   "execution_count": 33,
   "metadata": {},
   "outputs": [],
   "source": [
    "class Automobilis():\n",
    "    marke = ''\n",
    "    modelis = ''\n",
    "    metai = 2000\n",
    "\n",
    "    def vaziuoti(self):\n",
    "        print(f\"{self.modelis} vaziuoja\")\n",
    "\n",
    "    def pypinti(self, garsas=\"pyp\", kiekis=1)\n",
    "        print(f\"{self.marke} {garsas * kiekis}\")\n",
    "\n",
    "    def __init__(self, marke, modelis):\n",
    "        self.marke = marke\n",
    "        self.modelis = modelis\n"
   ]
  },
  {
   "attachments": {},
   "cell_type": "markdown",
   "metadata": {},
   "source": [
    "## Eksperimentai"
   ]
  },
  {
   "cell_type": "code",
   "execution_count": 26,
   "metadata": {},
   "outputs": [
    {
     "name": "stdout",
     "output_type": "stream",
     "text": [
      "Fiat 500 1990\n"
     ]
    }
   ],
   "source": [
    "pugzlys = Automobilis()\n",
    "pugzlys.marke = \"Fiat\"\n",
    "pugzlys.modelis = \"500\"\n",
    "pugzlys.metai = 1990\n",
    "\n",
    "print(pugzlys.marke, pugzlys.modelis, pugzlys.metai)"
   ]
  },
  {
   "cell_type": "code",
   "execution_count": 25,
   "metadata": {},
   "outputs": [
    {
     "name": "stdout",
     "output_type": "stream",
     "text": [
      "True\n"
     ]
    }
   ],
   "source": [
    "fcc = Automobilis()\n",
    "fcc.marke = \"Fiat\"\n",
    "fcc.modelis = \"500\"\n",
    "\n",
    "\n",
    "print(fcc.modelis == pugzlys.modelis)"
   ]
  },
  {
   "cell_type": "code",
   "execution_count": 24,
   "metadata": {},
   "outputs": [
    {
     "name": "stdout",
     "output_type": "stream",
     "text": [
      "Fiat 500 2000\n"
     ]
    }
   ],
   "source": [
    "print(fcc.marke, fcc.modelis, fcc.metai)"
   ]
  },
  {
   "cell_type": "code",
   "execution_count": 34,
   "metadata": {},
   "outputs": [
    {
     "name": "stdout",
     "output_type": "stream",
     "text": [
      "500vaziuoja\n"
     ]
    }
   ],
   "source": [
    "fcc.vaziuoti()"
   ]
  },
  {
   "attachments": {},
   "cell_type": "markdown",
   "metadata": {},
   "source": [
    "## KAzkas"
   ]
  },
  {
   "cell_type": "code",
   "execution_count": 4,
   "metadata": {},
   "outputs": [],
   "source": [
    "class Automobilis():\n",
    "    marke = ''\n",
    "    modelis = ''\n",
    "    metai = 2000\n",
    "\n",
    "    def vaziuoti(self):\n",
    "        print(f\"{self.modelis} vaziuoja\")\n",
    "\n",
    "    def pypinti(self, garsas=\"pyp\", kiekis=1):\n",
    "        print(f\"{self.marke} {garsas * kiekis}\")\n",
    "\n",
    "    def __init__(self, marke, modelis, **extras):\n",
    "        self.marke = marke\n",
    "        self.modelis = modelis\n",
    "        # self.extras = extras\n",
    "        for attr, extra in extras.items():\n",
    "            setattr(self, attr, extra)\n",
    "\n",
    "    def __str__(self):\n",
    "        return f'{self.marke} {self.modelis}, {self.metai}'\n",
    "\n",
    "    def __repr__(self) -> str:\n",
    "        return f'{self.marke} {self.modelis}, {self.metai}'\n"
   ]
  },
  {
   "cell_type": "code",
   "execution_count": 51,
   "metadata": {},
   "outputs": [
    {
     "name": "stdout",
     "output_type": "stream",
     "text": [
      "Tesla Model 3, 2021\n"
     ]
    }
   ],
   "source": [
    "tesla = Automobilis(\"Tesla\", \"Model 3\", kuras= \"Elektra\")\n",
    "tesla.metai = 2021\n",
    "print(tesla)"
   ]
  },
  {
   "cell_type": "code",
   "execution_count": 46,
   "metadata": {},
   "outputs": [
    {
     "name": "stdout",
     "output_type": "stream",
     "text": [
      "[Tesla Model 3, 2021, Tesla Model 3, 2021, Tesla Model 3, 2021]\n"
     ]
    }
   ],
   "source": [
    "autos = [tesla, tesla, tesla]\n",
    "print(autos)"
   ]
  },
  {
   "cell_type": "code",
   "execution_count": 52,
   "metadata": {},
   "outputs": [
    {
     "data": {
      "text/plain": [
       "'Elektra'"
      ]
     },
     "execution_count": 52,
     "metadata": {},
     "output_type": "execute_result"
    }
   ],
   "source": [
    "tesla.kuras"
   ]
  },
  {
   "cell_type": "code",
   "execution_count": 53,
   "metadata": {},
   "outputs": [
    {
     "name": "stdout",
     "output_type": "stream",
     "text": [
      "<class 'str'>\n"
     ]
    }
   ],
   "source": [
    "print(type(\"Labas\"))"
   ]
  },
  {
   "cell_type": "code",
   "execution_count": 54,
   "metadata": {},
   "outputs": [
    {
     "name": "stdout",
     "output_type": "stream",
     "text": [
      "<class '__main__.Automobilis'>\n"
     ]
    }
   ],
   "source": [
    "print(type(tesla))"
   ]
  },
  {
   "cell_type": "code",
   "execution_count": 55,
   "metadata": {},
   "outputs": [
    {
     "name": "stdout",
     "output_type": "stream",
     "text": [
      "<class 'str'>\n"
     ]
    }
   ],
   "source": [
    "print(type(__name__))"
   ]
  },
  {
   "cell_type": "code",
   "execution_count": 56,
   "metadata": {},
   "outputs": [
    {
     "name": "stdout",
     "output_type": "stream",
     "text": [
      "[<__main__.Automobilis object at 0x0000022F3FC9C450>, Tesla Model 3, 2021, <__main__.Automobilis object at 0x0000022F3F6D51D0>]\n"
     ]
    }
   ],
   "source": [
    "autos = [pugzlys, tesla, fcc]\n",
    "print(autos)"
   ]
  },
  {
   "cell_type": "code",
   "execution_count": 58,
   "metadata": {},
   "outputs": [
    {
     "name": "stdout",
     "output_type": "stream",
     "text": [
      "500\n",
      "Model 3\n",
      "500\n",
      "Model 3\n",
      "Model 3\n"
     ]
    }
   ],
   "source": [
    "autos.append(tesla)\n",
    "for car in autos:\n",
    "    print (car.modelis)"
   ]
  },
  {
   "cell_type": "code",
   "execution_count": 59,
   "metadata": {},
   "outputs": [
    {
     "name": "stdout",
     "output_type": "stream",
     "text": [
      "Darbuotojo pareigos: Programuotojas\n",
      "Darbuotojo atlyginimas: 2000\n",
      "Darbuotojas: Jonas Jonaitis, pareigos: Programuotojas, atlyginimas: 2500\n"
     ]
    }
   ],
   "source": [
    "class Darbuotojas:\n",
    "    def __init__(self, vardas, pavarde, pareigos, atlyginimas=1000):\n",
    "        self.vardas = vardas\n",
    "        self.pavarde = pavarde\n",
    "        self.pareigos = pareigos\n",
    "        self.atlyginimas = atlyginimas\n",
    "    \n",
    "    def __str__(self):\n",
    "        return f'{self.vardas} {self.pavarde}, pareigos: {self.pareigos}, atlyginimas: {self.atlyginimas}'\n",
    "    \n",
    "darbuotojas = Darbuotojas('Jonas', 'Jonaitis', 'Programuotojas', 2000)\n",
    "\n",
    "print('Darbuotojo pareigos:', darbuotojas.pareigos)\n",
    "print('Darbuotojo atlyginimas:', darbuotojas.atlyginimas)\n",
    "\n",
    "darbuotojas.atlyginimas = 2500\n",
    "\n",
    "print('Darbuotojas:', darbuotojas)"
   ]
  },
  {
   "cell_type": "code",
   "execution_count": 60,
   "metadata": {},
   "outputs": [
    {
     "name": "stdout",
     "output_type": "stream",
     "text": [
      "Gyvunas vardu Reksas yra 5 metu ir yra 20 kg\n",
      "Gyvunas vardu Reksas yra 5 metu ir yra 25 kg\n",
      "Gyvunas vardu Reksas yra 5 metu ir yra 15 kg\n",
      "Gyvunas vardu Reksas yra 6 metu ir yra 15 kg\n"
     ]
    }
   ],
   "source": [
    "class Gyvunas:\n",
    "    def __init__ (self, vardas, amzius, svoris):\n",
    "        self.vardas = vardas\n",
    "        self.amzius = amzius\n",
    "        self.svoris = svoris\n",
    "\n",
    "    def padidinti_svori(self, kiek):\n",
    "        self.svoris += kiek\n",
    "    \n",
    "    def sumazinti_svori(self, kiek):\n",
    "        self.svoris -= kiek\n",
    "\n",
    "    def pasikeites_amzius(self):\n",
    "        self.amzius += 1\n",
    "\n",
    "    def __str__(self):\n",
    "        return f'Gyvunas vardu {self.vardas} yra {self.amzius} metu ir yra {self.svoris} kg'\n",
    "    \n",
    "gyvunas = Gyvunas('Reksas', 5 , 20)\n",
    "print(gyvunas)\n",
    "\n",
    "gyvunas.padidinti_svori(5)\n",
    "print(gyvunas)\n",
    "\n",
    "gyvunas.sumazinti_svori(10)\n",
    "print(gyvunas)\n",
    "\n",
    "gyvunas.pasikeites_amzius()\n",
    "print(gyvunas)"
   ]
  },
  {
   "cell_type": "code",
   "execution_count": 2,
   "metadata": {},
   "outputs": [
    {
     "ename": "TypeError",
     "evalue": "BankoSaskaita() takes no arguments",
     "output_type": "error",
     "traceback": [
      "\u001b[1;31m---------------------------------------------------------------------------\u001b[0m",
      "\u001b[1;31mTypeError\u001b[0m                                 Traceback (most recent call last)",
      "Cell \u001b[1;32mIn[2], line 23\u001b[0m\n\u001b[0;32m     20\u001b[0m         \u001b[39melse\u001b[39;00m:\n\u001b[0;32m     21\u001b[0m             \u001b[39mprint\u001b[39m(\u001b[39m'\u001b[39m\u001b[39mNeteisingas slaptazodis. Papildymas negalimas.\u001b[39m\u001b[39m'\u001b[39m)\n\u001b[1;32m---> 23\u001b[0m saskaita \u001b[39m=\u001b[39m BankoSaskaita(\u001b[39m'\u001b[39;49m\u001b[39mLT123456789\u001b[39;49m\u001b[39m'\u001b[39;49m, \u001b[39m'\u001b[39;49m\u001b[39mJonas Jonaitis\u001b[39;49m\u001b[39m'\u001b[39;49m, \u001b[39m1000\u001b[39;49m, \u001b[39m1234\u001b[39;49m)\n\u001b[0;32m     25\u001b[0m saskaita\u001b[39m.\u001b[39mnuskaityti(\u001b[39m100\u001b[39m, \u001b[39m1122\u001b[39m)\n\u001b[0;32m     26\u001b[0m saskaita\u001b[39m.\u001b[39mnuskaityti(\u001b[39m200\u001b[39m, \u001b[39m1234\u001b[39m)\n",
      "\u001b[1;31mTypeError\u001b[0m: BankoSaskaita() takes no arguments"
     ]
    }
   ],
   "source": [
    "class BankoSaskaita:\n",
    "    def __intit__(self, saskaitos_numeris, savininkas, balansas, pin_kodas):\n",
    "        self.saskaitos_numeris = saskaitos_numeris\n",
    "        self.savininkas = savininkas\n",
    "        self.balansas = balansas\n",
    "        self.pin_kodas = pin_kodas\n",
    "\n",
    "    def nuskaityti(self, suma, pin_kodas):\n",
    "        if pin_kodas == self.pin_kodas:\n",
    "            self.balansas -= suma\n",
    "            print(f'{suma} $ sekmingai nuskaityta. Dabartinis saskaitos likutis: {self.balansas} $')\n",
    "        else:\n",
    "            print('Neteisingas slaptazodis. Nuskaitytas negalimas.')\n",
    "\n",
    "        \n",
    "    def papildyti(self, suma, pin_kodas):\n",
    "        if pin_kodas == self.pin_kodas:\n",
    "            self.balansas += suma\n",
    "            print(f'{suma} $ sekmingai papildyta. Dabartinis saskaitos likutis: {self.balansas} $')\n",
    "        else:\n",
    "            print('Neteisingas slaptazodis. Papildymas negalimas.')\n",
    "\n",
    "saskaita = BankoSaskaita('LT123456789', 'Jonas Jonaitis', 1000, 1234)\n",
    "\n",
    "saskaita.nuskaityti(100, 1122)\n",
    "saskaita.nuskaityti(200, 1234)\n",
    "saskaita.nuskaityti(100, 1234)\n",
    "saskaita.papildyti(500, 1234)"
   ]
  },
  {
   "cell_type": "code",
   "execution_count": null,
   "metadata": {},
   "outputs": [],
   "source": [
    "class Knyga:\n",
    "    def __init__(self, pavadinimas, autorius, bukle, puslapiai):\n",
    "        self.__pavadinimas = pavadinimas\n",
    "        self.__autorius = autorius\n",
    "        self.__bukle = bukle\n",
    "        self.__puslapiai = puslapiai\n",
    "\n",
    "    def gauti_pavadinima(self):\n",
    "        return self.__pavadinimas\n",
    "\n",
    "    def gauti_autoriu(self):\n",
    "        return self.__autorius\n",
    "\n",
    "    def gauti_bukle(self):\n",
    "        return self.__bukle\n",
    "\n",
    "    def gauti_puslapius(self):\n",
    "        return self.__puslapiai\n",
    "\n",
    "    def pakeisti_bukle(self, bukle):\n",
    "        if bukle in ('patenkinama', 'prasta', 'atnaujinta', 'sugadinta'):\n",
    "            self.__bukle = bukle\n",
    "        else:\n",
    "            print(f'negalima pakeisti būklės į {bukle}.')\n",
    "\n",
    "    def __naujas_puslapiu_skaicius(self, puslapiai):\n",
    "        self.__puslapiai = puslapiai\n",
    "\n",
    "    def isplesti_puslapius(self, puslapiai):\n",
    "        if abs(puslapiai) <= self.__puslapiai:\n",
    "            self.__naujas_puslapiu_skaicius(self.__puslapiai - abs(puslapiai))\n",
    "        else:\n",
    "            self.__puslapiai = 0\n",
    "\n",
    "knyga = Knyga(\"Python programavimo kalba\", \"Guido van Rossum\", 'nauja', 400)\n",
    "\n",
    "knyga.isplesti_puslapius(50)\n",
    "knyga.pakeisti_bukle('prasta')\n",
    "print(knyga.gauti_pavadinima())\n",
    "print(knyga.gauti_autoriu())\n",
    "print(knyga.gauti_bukle())\n",
    "print(knyga.gauti_puslapius())"
   ]
  },
  {
   "attachments": {},
   "cell_type": "markdown",
   "metadata": {},
   "source": [
    "## inheratince"
   ]
  },
  {
   "cell_type": "code",
   "execution_count": 7,
   "metadata": {},
   "outputs": [],
   "source": [
    "class Elektromobilis(Automobilis):\n",
    "    kuro_tipas = 'elektra'\n",
    "    __max_greitis = 300\n",
    "\n",
    "    def max_greitis(self):\n",
    "        print(f'{self.__max_greitis} km/h')\n",
    "        return self.__max_greitis\n",
    "    "
   ]
  },
  {
   "cell_type": "code",
   "execution_count": 9,
   "metadata": {},
   "outputs": [
    {
     "ename": "TypeError",
     "evalue": "Automobilis.__init__() takes 3 positional arguments but 5 were given",
     "output_type": "error",
     "traceback": [
      "\u001b[1;31m---------------------------------------------------------------------------\u001b[0m",
      "\u001b[1;31mTypeError\u001b[0m                                 Traceback (most recent call last)",
      "Cell \u001b[1;32mIn[9], line 1\u001b[0m\n\u001b[1;32m----> 1\u001b[0m tesla \u001b[39m=\u001b[39m Elektromobilis(\u001b[39m\"\u001b[39;49m\u001b[39mTesla\u001b[39;49m\u001b[39m\"\u001b[39;49m, \u001b[39m\"\u001b[39;49m\u001b[39mModel Y\u001b[39;49m\u001b[39m\"\u001b[39;49m, \u001b[39m2023\u001b[39;49m, \u001b[39m\"\u001b[39;49m\u001b[39mjuodas\u001b[39;49m\u001b[39m\"\u001b[39;49m)\n\u001b[0;32m      2\u001b[0m \u001b[39mprint\u001b[39m(tesla)\n\u001b[0;32m      3\u001b[0m \u001b[39mprint\u001b[39m(tesla\u001b[39m.\u001b[39mkuro_tipas)\n",
      "\u001b[1;31mTypeError\u001b[0m: Automobilis.__init__() takes 3 positional arguments but 5 were given"
     ]
    }
   ],
   "source": [
    "tesla = Elektromobilis(\"Tesla\", \"Model Y\", 2023, \"juodas\")\n",
    "print(tesla)\n",
    "print(tesla.kuro_tipas)\n",
    "print(tesla.max_greitis())"
   ]
  },
  {
   "cell_type": "code",
   "execution_count": null,
   "metadata": {},
   "outputs": [],
   "source": [
    "class Gyvunas:\n",
    "    def __init__(self, vardas):\n",
    "        self.vardas = vardas\n",
    "\n",
    "    def balsas(self):\n",
    "        pass\n",
    "\n",
    "    def judeti(self):\n",
    "        print(\"Ramiai guliu...\")\n",
    "\n",
    "class Kate(Gyvunas)\"\""
   ]
  },
  {
   "attachments": {},
   "cell_type": "markdown",
   "metadata": {},
   "source": [
    "## abstraction"
   ]
  },
  {
   "cell_type": "code",
   "execution_count": 32,
   "metadata": {},
   "outputs": [],
   "source": [
    "class Automobilis():\n",
    "    variklis = \"1.0\"\n",
    "    tipas = \"geras\"\n",
    "\n",
    "\n",
    "    def __init__(self, marke, modelis, metai=2023, spalva=\"baltas\"):\n",
    "        self.marke = marke\n",
    "        self.modelis = modelis\n",
    "        self.metai = metai\n",
    "        self.spalva = spalva\n",
    "        self.max_greitis = 200\n",
    "        self.__greitis = 0\n",
    "\n",
    "    def __keisti_greiti(self, greitis):\n",
    "        if greitis > self.max_greitis:\n",
    "            greitis = self.max_greitis\n",
    "        if greitis < -10:\n",
    "            greitis = -10\n",
    "        self.__greitis = greitis\n",
    "        return greitis\n",
    "    \n",
    "    def vaziuoti(self):\n",
    "        greitis = self.__greitis\n",
    "        if greitis > 0:\n",
    "            print(f\"vaziuoju {self.__greitis} km/h greiciu\")\n",
    "        elif greitis < 0:\n",
    "            print(f\"vaziuoju {abs(self.__greitis)} km/h greiciu atgal\")\n",
    "\n",
    "        else:\n",
    "            print(\"stoviu\")\n",
    "\n",
    "    def didinti_greiti(self, pagreitis=10):\n",
    "        self.__keisti_greiti(self.__greitis + pagreitis)\n",
    "        self.vaziuoti()\n",
    "\n",
    "    def mazinti_greiti(self, pagreitis=10):\n",
    "        self.__keisti_greiti(self.__greitis - pagreitis)\n",
    "        self.vaziuoti()\n",
    "        \n",
    "    def __str__(self) -> str:\n",
    "        return f\"{self.marke} {self.modelis}, {self.metai}, {self.spalva}\"\n",
    "    "
   ]
  },
  {
   "cell_type": "code",
   "execution_count": 12,
   "metadata": {},
   "outputs": [
    {
     "name": "stdout",
     "output_type": "stream",
     "text": [
      "Ford Escort, 1983, baltas 130\n"
     ]
    }
   ],
   "source": [
    "fordukas = Automobilis(\"Ford\", \"Escort\", 1983)\n",
    "fordukas.max_greitis = 130\n",
    "print(fordukas, fordukas.max_greitis)"
   ]
  },
  {
   "cell_type": "code",
   "execution_count": 26,
   "metadata": {},
   "outputs": [
    {
     "name": "stdout",
     "output_type": "stream",
     "text": [
      "vaziuoju 60 km/h greiciu\n"
     ]
    }
   ],
   "source": [
    "fordukas.didinti_greiti()"
   ]
  },
  {
   "cell_type": "code",
   "execution_count": 27,
   "metadata": {},
   "outputs": [],
   "source": [
    "class Elektromobilis(Automobilis):\n",
    "    pass"
   ]
  },
  {
   "cell_type": "code",
   "execution_count": 33,
   "metadata": {},
   "outputs": [],
   "source": [
    "def informacija(obj):\n",
    "    print(f\"{obj.marke} {obj.modelis}, {obj.metai} m. {obj.spalva} Variklis: {obj.variklis} {obj.tipas}. Max. {obj.max_greitis} km/h\")"
   ]
  },
  {
   "cell_type": "code",
   "execution_count": 29,
   "metadata": {},
   "outputs": [],
   "source": [
    "teslike = Elektromobilis(\"Tesla\", \"Model Y\", 2020)"
   ]
  },
  {
   "cell_type": "code",
   "execution_count": 34,
   "metadata": {},
   "outputs": [
    {
     "ename": "AttributeError",
     "evalue": "'Automobilis' object has no attribute 'variklis'",
     "output_type": "error",
     "traceback": [
      "\u001b[1;31m---------------------------------------------------------------------------\u001b[0m",
      "\u001b[1;31mAttributeError\u001b[0m                            Traceback (most recent call last)",
      "Cell \u001b[1;32mIn[34], line 1\u001b[0m\n\u001b[1;32m----> 1\u001b[0m informacija(fordukas)\n\u001b[0;32m      2\u001b[0m informacija(teslike)\n",
      "Cell \u001b[1;32mIn[33], line 2\u001b[0m, in \u001b[0;36minformacija\u001b[1;34m(obj)\u001b[0m\n\u001b[0;32m      1\u001b[0m \u001b[39mdef\u001b[39;00m \u001b[39minformacija\u001b[39m(obj):\n\u001b[1;32m----> 2\u001b[0m     \u001b[39mprint\u001b[39m(\u001b[39mf\u001b[39m\u001b[39m\"\u001b[39m\u001b[39m{\u001b[39;00mobj\u001b[39m.\u001b[39mmarke\u001b[39m}\u001b[39;00m\u001b[39m \u001b[39m\u001b[39m{\u001b[39;00mobj\u001b[39m.\u001b[39mmodelis\u001b[39m}\u001b[39;00m\u001b[39m, \u001b[39m\u001b[39m{\u001b[39;00mobj\u001b[39m.\u001b[39mmetai\u001b[39m}\u001b[39;00m\u001b[39m m. \u001b[39m\u001b[39m{\u001b[39;00mobj\u001b[39m.\u001b[39mspalva\u001b[39m}\u001b[39;00m\u001b[39m Variklis: \u001b[39m\u001b[39m{\u001b[39;00mobj\u001b[39m.\u001b[39;49mvariklis\u001b[39m}\u001b[39;00m\u001b[39m \u001b[39m\u001b[39m{\u001b[39;00mobj\u001b[39m.\u001b[39mtipas\u001b[39m}\u001b[39;00m\u001b[39m. Max. \u001b[39m\u001b[39m{\u001b[39;00mobj\u001b[39m.\u001b[39mmax_greitis\u001b[39m}\u001b[39;00m\u001b[39m km/h\u001b[39m\u001b[39m\"\u001b[39m)\n",
      "\u001b[1;31mAttributeError\u001b[0m: 'Automobilis' object has no attribute 'variklis'"
     ]
    }
   ],
   "source": [
    "informacija(fordukas)\n",
    "informacija(teslike)"
   ]
  },
  {
   "attachments": {},
   "cell_type": "markdown",
   "metadata": {},
   "source": [
    "## POLIMORFIZMAS"
   ]
  },
  {
   "cell_type": "code",
   "execution_count": 40,
   "metadata": {},
   "outputs": [],
   "source": [
    "class Automobilis():\n",
    "    def __init__(self, marke, modelis):\n",
    "        self.marke = marke\n",
    "        self.modelis = modelis\n",
    "\n",
    "    def greitis(self):\n",
    "        print(f\"{self.marke} {self.modelis} automobilis vaziuoja leistinu greiciu\")"
   ]
  },
  {
   "cell_type": "code",
   "execution_count": 41,
   "metadata": {},
   "outputs": [
    {
     "name": "stdout",
     "output_type": "stream",
     "text": [
      "WV Gold automobilis vaziuoja leistinu greiciu\n"
     ]
    }
   ],
   "source": [
    "guolis = Automobilis(\"WV\", \"Gold\")\n",
    "guolis.greitis()"
   ]
  },
  {
   "cell_type": "code",
   "execution_count": 42,
   "metadata": {},
   "outputs": [],
   "source": [
    "class SpotinisAutomobilis(Automobilis):\n",
    "    def greitis(self):\n",
    "        print(f'{self.marke} {self.modelis} automobilis vaziuoja labai greitai')"
   ]
  },
  {
   "cell_type": "code",
   "execution_count": 44,
   "metadata": {},
   "outputs": [
    {
     "name": "stdout",
     "output_type": "stream",
     "text": [
      "Ferrari Enzo automobilis vaziuoja labai greitai\n"
     ]
    }
   ],
   "source": [
    "ferrari = SpotinisAutomobilis(\"Ferrari\", \"Enzo\")\n",
    "ferrari.greitis()"
   ]
  },
  {
   "cell_type": "code",
   "execution_count": 46,
   "metadata": {},
   "outputs": [],
   "source": [
    "def automobilio_greitis(automobilis):\n",
    "    automobilis.greitis()"
   ]
  },
  {
   "cell_type": "code",
   "execution_count": 47,
   "metadata": {},
   "outputs": [
    {
     "name": "stdout",
     "output_type": "stream",
     "text": [
      "Ferrari Enzo automobilis vaziuoja labai greitai\n"
     ]
    }
   ],
   "source": [
    "automobilio_greitis(ferrari)"
   ]
  },
  {
   "cell_type": "code",
   "execution_count": 51,
   "metadata": {},
   "outputs": [],
   "source": [
    "class IStorinisAutomobilis(Automobilis):\n",
    "    def greitis(self):\n",
    "        print(\"Bandom uzsikurti... brrrr. brrrrriiiiiingttt\")\n",
    "        super().greitis()\n",
    "        print(\"...bet LABAI letai...\")"
   ]
  },
  {
   "cell_type": "code",
   "execution_count": 52,
   "metadata": {},
   "outputs": [
    {
     "name": "stdout",
     "output_type": "stream",
     "text": [
      "Bandom uzsikurti... brrrr. brrrrriiiiiingttt\n",
      "Ford Model T automobilis vaziuoja leistinu greiciu\n",
      "...bet LABAI letai...\n"
     ]
    }
   ],
   "source": [
    "tee = IStorinisAutomobilis(\"Ford\", \"Model T\")\n",
    "automobilio_greitis(tee)"
   ]
  },
  {
   "cell_type": "code",
   "execution_count": 58,
   "metadata": {},
   "outputs": [
    {
     "name": "stdout",
     "output_type": "stream",
     "text": [
      "Jonas, Jonaitis, atlyginimas 2000\n",
      "Petras, Petraitis, atlyginimas 2000\n",
      "Antanas, Utusenka, atlyginimas 2000\n",
      "Alexas, Ventura, atlyginimas 2000\n"
     ]
    }
   ],
   "source": [
    "class Darbuotojas():\n",
    "    def __init__(self, vardas, pavarde, atlyginimas=2000):\n",
    "        self.vardas = vardas\n",
    "        self.pavarde = pavarde\n",
    "        self.atlyginimas = atlyginimas\n",
    "\n",
    "    def info(self):\n",
    "        print(f\"{self.vardas}, {self.pavarde}, atlyginimas {self.atlyginimas}\")\n",
    "\n",
    "class Administratorius(Darbuotojas):\n",
    "    def __init__(self, vardas, pavarde, atlyginimas):\n",
    "        super().__init__(vardas, pavarde, atlyginimas)\n",
    "\n",
    "class Vadovas(Darbuotojas):\n",
    "    def __init__(self, vardas, pavarde, atlyginimas, premija):\n",
    "        super().__init__(vardas, pavarde, atlyginimas)\n",
    "        self.premija = premija\n",
    "\n",
    "darbuotojas1 = Darbuotojas('Jonas', 'Jonaitis')\n",
    "darbuotojas2 = Darbuotojas('Petras', 'Petraitis', 2000)\n",
    "darbuotojas3 = Darbuotojas('Antanas', 'Utusenka', 2000)\n",
    "vadovas1 = Vadovas(\"Alexas\", \"Ventura\", 2000, 500)\n",
    "\n",
    "darbuotojai = [darbuotojas1, darbuotojas2, darbuotojas3, vadovas1]\n",
    "\n",
    "for darbuotojas in darbuotojai:\n",
    "    darbuotojas.info()\n"
   ]
  },
  {
   "cell_type": "code",
   "execution_count": null,
   "metadata": {},
   "outputs": [],
   "source": []
  }
 ],
 "metadata": {
  "kernelspec": {
   "display_name": "venv",
   "language": "python",
   "name": "python3"
  },
  "language_info": {
   "codemirror_mode": {
    "name": "ipython",
    "version": 3
   },
   "file_extension": ".py",
   "mimetype": "text/x-python",
   "name": "python",
   "nbconvert_exporter": "python",
   "pygments_lexer": "ipython3",
   "version": "3.11.3"
  },
  "orig_nbformat": 4
 },
 "nbformat": 4,
 "nbformat_minor": 2
}
