{
 "cells": [
  {
   "cell_type": "code",
   "execution_count": 1,
   "metadata": {},
   "outputs": [
    {
     "name": "stdout",
     "output_type": "stream",
     "text": [
      "['Sokoladas', 'Labas', 'Aciu', 'Viso', 'Gerai']\n"
     ]
    }
   ],
   "source": [
    "sarasas = [\"Sokoladas\", \"Labas\", \"Aciu\", \"Viso\", \"Gerai\"]\n",
    "print(sarasas)"
   ]
  },
  {
   "cell_type": "code",
   "execution_count": 2,
   "metadata": {},
   "outputs": [
    {
     "name": "stdout",
     "output_type": "stream",
     "text": [
      "Labas\n",
      "Viso\n",
      "Gerai\n"
     ]
    }
   ],
   "source": [
    "print(sarasas[1])\n",
    "print(sarasas[3])\n",
    "print(sarasas[-1])"
   ]
  },
  {
   "cell_type": "code",
   "execution_count": 10,
   "metadata": {},
   "outputs": [
    {
     "name": "stdout",
     "output_type": "stream",
     "text": [
      "['Sokoladas', 'Labas', 'Aciu']\n",
      "['Viso', 'Gerai']\n",
      "['Labas', 'Aciu', 'Viso']\n",
      "['Sokoladas', 'Aciu', 'Gerai']\n"
     ]
    }
   ],
   "source": [
    "print(sarasas[:3])\n",
    "print(sarasas[3:])\n",
    "print(sarasas[1:4])\n",
    "print(sarasas[::2])"
   ]
  },
  {
   "cell_type": "code",
   "execution_count": 25,
   "metadata": {},
   "outputs": [
    {
     "name": "stdout",
     "output_type": "stream",
     "text": [
      "['Sokoladas', 'Labas', 'Aciu', 'Viso', 'Gerai', 'Makaronai', 'Makaronai']\n"
     ]
    }
   ],
   "source": [
    "dar_zodis = [\"Makaronai\"]\n",
    "sarasas.extend (dar_zodis)\n",
    "print(sarasas)"
   ]
  },
  {
   "cell_type": "code",
   "execution_count": 27,
   "metadata": {},
   "outputs": [
    {
     "name": "stdout",
     "output_type": "stream",
     "text": [
      "['Sokoladas', 'Labas', 'Aciu', 'Sviestas', 'Viso', 'Gerai', 'Makaronai']\n"
     ]
    }
   ],
   "source": [
    "sarasas.insert (3, \"Sviestas\")\n",
    "print(sarasas)"
   ]
  },
  {
   "cell_type": "code",
   "execution_count": 37,
   "metadata": {},
   "outputs": [
    {
     "name": "stdout",
     "output_type": "stream",
     "text": [
      "['Obuolys', 'Aciu', 'Sviestas', 'Viso', 'Gerai', 'Makaronai']\n"
     ]
    }
   ],
   "source": [
    "sarasas.insert (3, \"Viso\")\n",
    "print(sarasas)"
   ]
  },
  {
   "cell_type": "code",
   "execution_count": 35,
   "metadata": {},
   "outputs": [
    {
     "name": "stdout",
     "output_type": "stream",
     "text": [
      "['Obuolys', 'Aciu', 'Sviestas', 'Viso', 'Gerai', 'Makaronai']\n"
     ]
    }
   ],
   "source": [
    "sarasas.pop (0)\n",
    "print(sarasas)"
   ]
  },
  {
   "cell_type": "code",
   "execution_count": 38,
   "metadata": {},
   "outputs": [
    {
     "name": "stdout",
     "output_type": "stream",
     "text": [
      "['Obuolys', 'Aciu', 'Viso', 'Gerai', 'Makaronai']\n"
     ]
    }
   ],
   "source": [
    "sarasas.pop (2)\n",
    "print(sarasas)"
   ]
  },
  {
   "cell_type": "code",
   "execution_count": 39,
   "metadata": {},
   "outputs": [
    {
     "name": "stdout",
     "output_type": "stream",
     "text": [
      "2\n"
     ]
    }
   ],
   "source": [
    "kur_viso = sarasas.index (\"Viso\")\n",
    "print(kur_viso)"
   ]
  },
  {
   "cell_type": "code",
   "execution_count": 40,
   "metadata": {},
   "outputs": [
    {
     "name": "stdout",
     "output_type": "stream",
     "text": [
      "['Makaronai', 'Gerai', 'Viso', 'Aciu', 'Obuolys']\n"
     ]
    }
   ],
   "source": [
    "sarasas.reverse()\n",
    "print(sarasas)"
   ]
  },
  {
   "cell_type": "code",
   "execution_count": 42,
   "metadata": {},
   "outputs": [
    {
     "name": "stdout",
     "output_type": "stream",
     "text": [
      "5\n"
     ]
    }
   ],
   "source": [
    "print(len(sarasas))"
   ]
  },
  {
   "cell_type": "code",
   "execution_count": 43,
   "metadata": {},
   "outputs": [
    {
     "name": "stdout",
     "output_type": "stream",
     "text": [
      "True\n"
     ]
    }
   ],
   "source": [
    "print(\"Obuolys\" in sarasas)"
   ]
  },
  {
   "cell_type": "code",
   "execution_count": 45,
   "metadata": {},
   "outputs": [
    {
     "name": "stdout",
     "output_type": "stream",
     "text": [
      "['Makaronai', 'Gerai', 'Viso', 'Aciu', 'Ananasas']\n"
     ]
    }
   ],
   "source": [
    "sarasas[4] = \"Ananasas\"\n",
    "print(sarasas)"
   ]
  },
  {
   "cell_type": "code",
   "execution_count": 47,
   "metadata": {},
   "outputs": [
    {
     "name": "stdout",
     "output_type": "stream",
     "text": [
      "{'Smilius': '9', 'Dora': '11', 'Susukuotas': '4'}\n"
     ]
    }
   ],
   "source": [
    "u_zodynas = {\n",
    "    'Smilius': '9',\n",
    "    'Dora': '11',\n",
    "    'Susukuotas': '4'\n",
    "}\n",
    "print(u_zodynas)"
   ]
  },
  {
   "cell_type": "code",
   "execution_count": 48,
   "metadata": {},
   "outputs": [
    {
     "name": "stdout",
     "output_type": "stream",
     "text": [
      "11\n"
     ]
    }
   ],
   "source": [
    "print(u_zodynas['Dora'])"
   ]
  },
  {
   "cell_type": "code",
   "execution_count": 50,
   "metadata": {},
   "outputs": [
    {
     "name": "stdout",
     "output_type": "stream",
     "text": [
      "{'Smilius': '9', 'Dora': '11', 'Susukuotas': '4', 'Bella': '8'}\n"
     ]
    }
   ],
   "source": [
    "u_zodynas['Bella'] = '8'\n",
    "print(u_zodynas)"
   ]
  },
  {
   "cell_type": "code",
   "execution_count": 51,
   "metadata": {},
   "outputs": [
    {
     "name": "stdout",
     "output_type": "stream",
     "text": [
      "{'Smilius': 7, 'Dora': 11, 'Susukuotas': 4, 'Bella': 8}\n"
     ]
    }
   ],
   "source": [
    "u_zodynas = {'Smilius': 9, 'Dora': 11, 'Susukuotas': 4, 'Bella': 8}\n",
    "u_zodynas['Smilius'] = 7\n",
    "print(u_zodynas)"
   ]
  },
  {
   "cell_type": "code",
   "execution_count": 52,
   "metadata": {},
   "outputs": [
    {
     "name": "stdout",
     "output_type": "stream",
     "text": [
      "{'Smilius': 9, 'Dora': 11, 'Susukuotas': 4}\n"
     ]
    }
   ],
   "source": [
    "u_zodynas = {'Smilius': 9, 'Dora': 11, 'Susukuotas': 4, 'Bella': 8}\n",
    "del u_zodynas['Bella']\n",
    "print(u_zodynas)"
   ]
  },
  {
   "cell_type": "code",
   "execution_count": 54,
   "metadata": {},
   "outputs": [
    {
     "name": "stdout",
     "output_type": "stream",
     "text": [
      "dict_keys(['Smilius', 'Dora', 'Susukuotas'])\n"
     ]
    }
   ],
   "source": [
    "print(u_zodynas.keys())"
   ]
  },
  {
   "cell_type": "code",
   "execution_count": 55,
   "metadata": {},
   "outputs": [
    {
     "name": "stdout",
     "output_type": "stream",
     "text": [
      "dict_values([9, 11, 4])\n"
     ]
    }
   ],
   "source": [
    "print(u_zodynas.values())"
   ]
  },
  {
   "cell_type": "code",
   "execution_count": 56,
   "metadata": {},
   "outputs": [
    {
     "name": "stdout",
     "output_type": "stream",
     "text": [
      "dict_items([('Smilius', 9), ('Dora', 11), ('Susukuotas', 4)])\n"
     ]
    }
   ],
   "source": [
    "print(u_zodynas.items())"
   ]
  },
  {
   "cell_type": "code",
   "execution_count": 57,
   "metadata": {},
   "outputs": [
    {
     "name": "stdout",
     "output_type": "stream",
     "text": [
      "11\n"
     ]
    }
   ],
   "source": [
    "print(u_zodynas['Dora'])"
   ]
  }
 ],
 "metadata": {
  "kernelspec": {
   "display_name": "venv",
   "language": "python",
   "name": "python3"
  },
  "language_info": {
   "codemirror_mode": {
    "name": "ipython",
    "version": 3
   },
   "file_extension": ".py",
   "mimetype": "text/x-python",
   "name": "python",
   "nbconvert_exporter": "python",
   "pygments_lexer": "ipython3",
   "version": "3.11.3"
  },
  "orig_nbformat": 4
 },
 "nbformat": 4,
 "nbformat_minor": 2
}
